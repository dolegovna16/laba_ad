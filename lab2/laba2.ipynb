{
 "cells": [
  {
   "metadata": {
    "ExecuteTime": {
     "end_time": "2025-04-07T19:20:19.435845Z",
     "start_time": "2025-04-07T19:19:53.887002Z"
    }
   },
   "cell_type": "code",
   "source": [
    "import urllib.request\n",
    "import datetime\n",
    "import time\n",
    "import os\n",
    "\n",
    "if not os.path.isdir('../df'):\n",
    "    os.mkdir('../df')\n",
    "for i in range(1,28):\n",
    "    url = f\"https://www.star.nesdis.noaa.gov/smcd/emb/vci/VH/get_TS_admin.php?country=UKR&provinceID={i}&year1=1981&year2=2024&type=Mean\"\n",
    "    wp = urllib.request.urlopen(url)\n",
    "    text = wp.read()\n",
    "    now = datetime.datetime.now()\n",
    "    date_and_time = now.strftime(\"%d-%m-%Y__%H-%M-%S\")\n",
    "\n",
    "    with open(f'../df/id_{str(i)}_{date_and_time}.csv', 'wb') as f:\n",
    "        f.write(text)\n",
    "    print(\"saved file\")\n",
    "\n",
    "print(\"VHI is downloaded...\")\n"
   ],
   "id": "675a3ed4b13df8b5",
   "outputs": [
    {
     "name": "stdout",
     "output_type": "stream",
     "text": [
      "saved file\n",
      "saved file\n",
      "saved file\n",
      "saved file\n",
      "saved file\n",
      "saved file\n",
      "saved file\n",
      "saved file\n",
      "saved file\n",
      "saved file\n",
      "saved file\n",
      "saved file\n",
      "saved file\n",
      "saved file\n",
      "saved file\n",
      "saved file\n",
      "saved file\n",
      "saved file\n",
      "saved file\n",
      "saved file\n",
      "saved file\n",
      "saved file\n",
      "saved file\n",
      "saved file\n",
      "saved file\n",
      "saved file\n",
      "saved file\n",
      "VHI is downloaded...\n"
     ]
    }
   ],
   "execution_count": 4
  },
  {
   "metadata": {
    "ExecuteTime": {
     "end_time": "2025-04-07T19:23:49.200777Z",
     "start_time": "2025-04-07T19:23:48.491882Z"
    }
   },
   "cell_type": "code",
   "source": [
    "import os\n",
    "import pandas as pd\n",
    "\n",
    "def read_csv_files_to_df(directory):\n",
    "    data_frames = []  # список для збереження DataFrame з кожного файлу\n",
    "\n",
    "    # Проходимо по всіх файлах у вказаній директорії\n",
    "    for filename in os.listdir(directory):\n",
    "        reg = filename.split(\"_\")[1]\n",
    "        file_path = os.path.join(directory, filename)\n",
    "\n",
    "        try:\n",
    "            df = pd.read_csv(file_path, index_col=False, header=1)\n",
    "            df.columns = [col.strip().lower().replace(\"<br>\", \"\") for col in df.columns]\n",
    "            df = df.replace(to_replace=r'<.*?>', value='', regex=True)\n",
    "            df[\"oblast\"] = reg\n",
    "            data_frames.append(df)\n",
    "\n",
    "        except Exception as e:\n",
    "            print(f\"Не вдалося зчитати файл {file_path}: {e}\")\n",
    "\n",
    "    # Об'єднуємо всі датафрейми в один\n",
    "    if data_frames:\n",
    "        combined_df = pd.concat(data_frames, ignore_index=True)\n",
    "\n",
    "    else:\n",
    "        combined_df = pd.DataFrame()\n",
    "\n",
    "    return combined_df\n",
    "\n",
    "df = read_csv_files_to_df(\"../df\")\n",
    "\n",
    "\n"
   ],
   "id": "2f9be1e3717f94c1",
   "outputs": [],
   "execution_count": 6
  },
  {
   "metadata": {
    "ExecuteTime": {
     "end_time": "2025-04-07T19:23:58.732608Z",
     "start_time": "2025-04-07T19:23:58.212151Z"
    }
   },
   "cell_type": "code",
   "source": [
    "# Замінити -1 значенням з попереднього рядка\n",
    "while (df[['vci', 'tci', 'vhi']] == -1).any().any():\n",
    "    df = df.mask(df == -1, df.shift())\n",
    "\n",
    "#видалити всі рядки, де принаймні в одному зі стовпців зазначених нижче немає даних\n",
    "df = df.dropna(subset=['vci', 'tci', 'vhi'])"
   ],
   "id": "cf5ed04f3ab88e9b",
   "outputs": [],
   "execution_count": 7
  },
  {
   "metadata": {
    "ExecuteTime": {
     "end_time": "2025-04-07T19:24:10.211068Z",
     "start_time": "2025-04-07T19:24:09.813340Z"
    }
   },
   "cell_type": "code",
   "source": [
    "df.to_csv('../df/combined_df.csv', index=False)\n",
    "df = pd.read_csv('../df/combined_df.csv', index_col=False)\n"
   ],
   "id": "c006e9c43bbaa715",
   "outputs": [],
   "execution_count": 9
  },
  {
   "metadata": {
    "ExecuteTime": {
     "end_time": "2025-04-07T19:24:13.789724Z",
     "start_time": "2025-04-07T19:24:13.775498Z"
    }
   },
   "cell_type": "code",
   "source": [
    "obl_dict = {\n",
    "    1: \"Черкаська\",\n",
    "    2: \"Чернігівська\",\n",
    "    3: \"Чернівецька\",\n",
    "    4: \"АР Крим\",\n",
    "    5: \"Дніпропетровська\",\n",
    "    6: \"Донецька\",\n",
    "    7: \"Івано-Франківська\",\n",
    "    8: \"Харківська\",\n",
    "    9: \"Херсонська\",\n",
    "    10: \"Хмельницька\",\n",
    "    11: \"Київська\",\n",
    "    12: \"м. Київ\",\n",
    "    13: \"Кіровоградська\",\n",
    "    14: \"Луганська\",\n",
    "    15: \"Львівська\",\n",
    "    16: \"Миколаївська\",\n",
    "    17: \"Одеська\",\n",
    "    18: \"Полтавська\",\n",
    "    19: \"Рівненська\",\n",
    "    20: \"м. Севастополь\",\n",
    "    21: \"Сумська\",\n",
    "    22: \"Тернопільська\",\n",
    "    23: \"Закарпатська\",\n",
    "    24: \"Вінницька\",\n",
    "    25: \"Волинська\",\n",
    "    26: \"Запорізька\",\n",
    "    27: \"Житомирська\"\n",
    "}\n",
    "\n",
    "df[\"oblast\"] = df[\"oblast\"].astype(int).map(obl_dict)\n"
   ],
   "id": "b6a399cc5b299978",
   "outputs": [],
   "execution_count": 10
  },
  {
   "metadata": {
    "ExecuteTime": {
     "end_time": "2025-04-07T19:24:19.089221Z",
     "start_time": "2025-04-07T19:24:19.072625Z"
    }
   },
   "cell_type": "code",
   "source": [
    "#перетворити ствопчик років з рядка на ціле число\n",
    "df[\"year\"] = pd.to_numeric(df[\"year\"], errors=\"coerce\").astype(\"Int64\")\n",
    "\n",
    "print(df[(df[\"year\"]==2018)][:10])\n"
   ],
   "id": "c9e702246299db13",
   "outputs": [
    {
     "name": "stdout",
     "output_type": "stream",
     "text": [
      "      year  week    smn     smt    vci    tci    vhi       oblast\n",
      "1872  2018   1.0  0.071  260.87  63.46  35.69  49.57  Хмельницька\n",
      "1873  2018   2.0  0.070  259.63  64.12  40.79  52.46  Хмельницька\n",
      "1874  2018   3.0  0.071  259.85  64.14  45.75  54.95  Хмельницька\n",
      "1875  2018   4.0  0.071  258.79  62.36  46.69  54.53  Хмельницька\n",
      "1876  2018   5.0  0.065  257.71  53.36  51.54  52.45  Хмельницька\n",
      "1877  2018   6.0  0.063  259.61  42.31  57.21  49.76  Хмельницька\n",
      "1878  2018   7.0  0.064  261.47  38.31  55.28  46.80  Хмельницька\n",
      "1879  2018   8.0  0.068  262.87  38.86  56.20  47.53  Хмельницька\n",
      "1880  2018   9.0  0.077  264.33  40.67  57.98  49.32  Хмельницька\n",
      "1881  2018  10.0  0.088  266.63  43.68  55.04  49.36  Хмельницька\n"
     ]
    }
   ],
   "execution_count": 11
  },
  {
   "metadata": {
    "ExecuteTime": {
     "end_time": "2025-04-07T19:24:23.657734Z",
     "start_time": "2025-04-07T19:24:23.638128Z"
    }
   },
   "cell_type": "code",
   "source": [
    "import statistics\n",
    "\n",
    "def vhi_obl_year(obl, year):\n",
    "    res = df[(df[\"oblast\"] == obl) & (df[\"year\"] == year)]\n",
    "    res_vhi = list(res[\"vhi\"])\n",
    "\n",
    "    print(f\"vhi для {obl} області на {year} рік склав \\n{res_vhi}\")\n",
    "\n",
    "    print(\"\\n\\tMIN:\", min(res_vhi))\n",
    "    print(\"\\tMAX:\", max(res_vhi))\n",
    "\n",
    "    print(\"\\n\\tAVG:\", statistics.mean(res_vhi))\n",
    "    print(\"\\tMED:\", statistics.median(res_vhi))\n",
    "\n",
    "vhi_obl_year(\"Запорізька\", 2003)\n"
   ],
   "id": "c6d4e34956c453f9",
   "outputs": [
    {
     "name": "stdout",
     "output_type": "stream",
     "text": [
      "vhi для Запорізька області на 2003 рік склав \n",
      "[62.06, 58.22, 55.64, 53.87, 51.0, 48.04, 45.78, 44.68, 44.68, 43.78, 44.92, 45.6, 42.9, 37.98, 35.01, 32.6, 29.24, 24.95, 19.46, 16.56, 15.92, 16.23, 19.7, 27.95, 38.84, 49.68, 59.3, 68.31, 76.1, 81.03, 84.13, 85.29, 84.29, 83.4, 81.65, 76.92, 70.18, 64.69, 64.94, 61.27, 52.65, 51.06, 48.12, 43.34, 39.43, 38.65, 40.21, 41.47, 44.48, 49.2, 54.47, 59.63]\n",
      "\n",
      "\tMIN: 15.92\n",
      "\tMAX: 85.29\n",
      "\n",
      "\tAVG: 50.18269230769231\n",
      "\tMED: 48.08\n"
     ]
    }
   ],
   "execution_count": 12
  },
  {
   "metadata": {
    "ExecuteTime": {
     "end_time": "2025-04-07T19:24:28.531854Z",
     "start_time": "2025-04-07T19:24:28.512270Z"
    }
   },
   "cell_type": "code",
   "source": [
    "def vhi_obls_years(obl, min_year, max_year):\n",
    "    res = df[(df[\"oblast\"].isin(obl)) & (df[\"year\"].between(min_year, max_year+1))]\n",
    "    res_vhi = list(res[\"vhi\"])\n",
    "\n",
    "    print(f\"vhi для {obl} області на {min_year}-{max_year} має {len(res_vhi)} значень\")\n",
    "\n",
    "    print(\"\\n\\tMIN:\", min(res_vhi))\n",
    "    print(\"\\tMAX:\", max(res_vhi))\n",
    "\n",
    "    print(\"\\n\\tAVG:\", statistics.mean(res_vhi))\n",
    "    print(\"\\tMED:\", statistics.median(res_vhi))\n",
    "\n",
    "vhi_obls_years([\"Запорізька\", \"Волинська\", \"Херсонська\"], 1990, 2021)\n"
   ],
   "id": "3d5f7c36c27b8beb",
   "outputs": [
    {
     "name": "stdout",
     "output_type": "stream",
     "text": [
      "vhi для ['Запорізька', 'Волинська', 'Херсонська'] області на 1990-2021 має 5148 значень\n",
      "\n",
      "\tMIN: 10.88\n",
      "\tMAX: 96.69\n",
      "\n",
      "\tAVG: 46.61220668220668\n",
      "\tMED: 45.995000000000005\n"
     ]
    }
   ],
   "execution_count": 14
  },
  {
   "metadata": {
    "ExecuteTime": {
     "end_time": "2025-04-07T19:24:36.810335Z",
     "start_time": "2025-04-07T19:24:31.541201Z"
    }
   },
   "cell_type": "code",
   "source": [
    "def drought_years(percent=0):\n",
    "    draught_years = []\n",
    "    oblasti = df[\"oblast\"].unique()\n",
    "    min_obl_num = int(percent * len(oblasti) / 100)\n",
    "\n",
    "    for year in df[\"year\"].unique():\n",
    "        draughts_in = 0\n",
    "        for obl in oblasti:\n",
    "            res = df[(df[\"oblast\"] == obl) & (df[\"year\"] == year)]\n",
    "            res_vhi = list(res[\"vhi\"])\n",
    "            if len(res_vhi) != 0:\n",
    "                if statistics.mean(res_vhi) < 35:\n",
    "                    draughts_in += 1\n",
    "\n",
    "        if draughts_in > min_obl_num:\n",
    "            draught_years.append(int(year))\n",
    "\n",
    "    print(f\"Було {len(draught_years)} посушливих років\")\n",
    "    print(draught_years)\n",
    "\n",
    "drought_years(20)\n"
   ],
   "id": "357fff5ec7b3a75",
   "outputs": [
    {
     "name": "stdout",
     "output_type": "stream",
     "text": [
      "Було 1 посушливих років\n",
      "[1986]\n"
     ]
    }
   ],
   "execution_count": 15
  },
  {
   "metadata": {},
   "cell_type": "code",
   "outputs": [],
   "execution_count": null,
   "source": "",
   "id": "ff47eceb603a5785"
  },
  {
   "metadata": {},
   "cell_type": "code",
   "outputs": [],
   "execution_count": null,
   "source": "",
   "id": "f70120a56551aa11"
  }
 ],
 "metadata": {
  "kernelspec": {
   "display_name": "Python 3",
   "language": "python",
   "name": "python3"
  },
  "language_info": {
   "codemirror_mode": {
    "name": "ipython",
    "version": 2
   },
   "file_extension": ".py",
   "mimetype": "text/x-python",
   "name": "python",
   "nbconvert_exporter": "python",
   "pygments_lexer": "ipython2",
   "version": "2.7.6"
  }
 },
 "nbformat": 4,
 "nbformat_minor": 5
}
